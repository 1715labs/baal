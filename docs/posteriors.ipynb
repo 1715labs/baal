{
 "cells": [
  {
   "cell_type": "markdown",
   "metadata": {},
   "source": [
    "# Approximating posterior distributions from neural networks\n",
    "\n",
    "When we started developing active learning methods, we realised that what we wanted to\n",
    "achieve required estimating the uncertainty of models. Doing so for neural networks is\n",
    "an ongoing active research area.\n",
    "\n",
    "For the purposes of `baal`, we have implemented a few methods that are relatively generic\n",
    "and work with many neural networks.\n",
    "\n",
    "All the techniques implemented effectively produce approximate samples from the posterior.\n",
    "For classification techniques, this means that you usually end up with a 3D tensor rather\n",
    "than a 2D tensor (`n_batch x n_classes x n_samples` rather than `n_batch x n_classes`).\n"
   ]
  },
  {
   "cell_type": "markdown",
   "metadata": {},
   "source": [
    "## Monte-Carlo Dropout\n",
    "\n",
    "Monte-Carlo Dropout, or MC Dropout, is a very simple way of accessing uncertainty\n",
    "in a network that include Dropout layers. Essentially, rather than turning off\n",
    "dropout during inference, you keep in on and make multiple predictions on the\n",
    "same data. Due to the stochastic zeroing of weights, you'll get a different for\n",
    "every iteration, even if the input is the same.\n",
    "\n",
    "This is valid primarily because you trained the network using dropout: You have\n",
    "already learnt to make predictions without all the weights.\n",
    "\n",
    "The output is a distribution of predictions."
   ]
  },
  {
   "cell_type": "markdown",
   "metadata": {},
   "source": [
    "### Usage\n",
    "\n",
    "In order to use it, you can simply import Dropout layers from baal and use them in your model construction:\n"
   ]
  },
  {
   "cell_type": "code",
   "execution_count": 1,
   "metadata": {},
   "outputs": [],
   "source": [
    "import torch\n",
    "import baal.bayesian.dropout\n",
    "\n",
    "standard_model = torch.nn.Sequential(\n",
    "    torch.nn.Linear(10, 8),\n",
    "    torch.nn.ReLU(),\n",
    "    torch.nn.Dropout(p=0.5),\n",
    "    torch.nn.Linear(8, 4),\n",
    "    torch.nn.ReLU(),\n",
    "    torch.nn.Dropout(p=0.5),\n",
    "    torch.nn.Linear(4, 2),\n",
    ")\n",
    "\n",
    "mc_dropout_model = torch.nn.Sequential(\n",
    "    torch.nn.Linear(10, 8),\n",
    "    torch.nn.ReLU(),\n",
    "    baal.bayesian.dropout.Dropout(p=0.5),\n",
    "    torch.nn.Linear(8, 4),\n",
    "    torch.nn.ReLU(),\n",
    "    baal.bayesian.dropout.Dropout(p=0.5),\n",
    "    torch.nn.Linear(4, 2),\n",
    ")"
   ]
  },
  {
   "cell_type": "markdown",
   "metadata": {},
   "source": [
    "The main difference between these is that the standard model will set the dropout probability to zero during eval, while the MC dropout model will not:"
   ]
  },
  {
   "cell_type": "code",
   "execution_count": 2,
   "metadata": {},
   "outputs": [
    {
     "name": "stdout",
     "output_type": "stream",
     "text": [
      "True\n",
      "False\n"
     ]
    }
   ],
   "source": [
    "dummy_input = torch.randn(8, 10)\n",
    "\n",
    "standard_model.eval()\n",
    "print(bool((standard_model(dummy_input) == standard_model(dummy_input)).all()))\n",
    "\n",
    "mc_dropout_model.eval()\n",
    "print(bool((mc_dropout_model(dummy_input) == mc_dropout_model(dummy_input)).all()))\n"
   ]
  },
  {
   "cell_type": "markdown",
   "metadata": {},
   "source": [
    "In order to get a distribution of model outputs, you simply need to repeatedly run the same data through the MC Dropout model. `baal` makes this easier for you by providing a class called `ModelWrapper`. This class accepts your model and a criterion (loss) function, and provides several utility functions, such as running training steps and more. The one that is important for obtaining a posterior distribution is `Modelwrapper.predict_on_batch`.\n",
    "\n",
    "This method allows you to specify a number of iterations to run the model for, and produces a distribution accordingly:"
   ]
  },
  {
   "cell_type": "code",
   "execution_count": 3,
   "metadata": {},
   "outputs": [],
   "source": [
    "from baal.modelwrapper import ModelWrapper\n",
    "\n",
    "wrapped_model = ModelWrapper(\n",
    "    mc_dropout_model,\n",
    "    torch.nn.MSELoss()\n",
    ")\n",
    "\n",
    "with torch.no_grad():\n",
    "    predictions = wrapped_model.predict_on_batch(dummy_input, iterations=10000)"
   ]
  },
  {
   "cell_type": "markdown",
   "metadata": {},
   "source": [
    "The tensor \"prediction_distribution\" has the shape (batch size) x (output size) x iterations:"
   ]
  },
  {
   "cell_type": "code",
   "execution_count": 4,
   "metadata": {},
   "outputs": [
    {
     "data": {
      "text/plain": [
       "torch.Size([8, 2, 10000])"
      ]
     },
     "execution_count": 4,
     "metadata": {},
     "output_type": "execute_result"
    }
   ],
   "source": [
    "predictions.shape"
   ]
  },
  {
   "cell_type": "markdown",
   "metadata": {},
   "source": [
    "We can visualise this posterior distribution, for example for the first data point in our\n",
    "minibatch (although note that because this model is overly simplistic, this is not very\n",
    "useful):"
   ]
  },
  {
   "cell_type": "code",
   "execution_count": 6,
   "metadata": {},
   "outputs": [
    {
     "data": {
      "image/png": "[encoded data removed]",
      "text/plain": [
       "<Figure size 432x288 with 1 Axes>"
      ]
     },
     "metadata": {
      "needs_background": "light"
     },
     "output_type": "display_data"
    }
   ],
   "source": [
    "import matplotlib.pyplot as plt\n",
    "\n",
    "fig, ax = plt.subplots()\n",
    "ax.hist(predictions[0, 0, :].numpy(), bins=50);"
   ]
  },
  {
   "cell_type": "markdown",
   "metadata": {},
   "source": [
    "## Using stochastic weight averaging\n",
    "\n",
    "Stochastic weight averaging with gaussian modelling (SWAG) is a method to approximate posteriors by sampling\n",
    "the weights of a neural network from a gaussian distribution that is fitted to samples from the stochastic\n",
    "gradient descent iterates.\n",
    "\n",
    "We implement this in `baal` as an optimiser, since the samples are taken during the optimisation steps.\n",
    "\n",
    "This optimiser class is in the `swag` submodule. It accepts all parameters as the standard SGD optimiser\n",
    "in pytorch, and in addition accepts three parameters to determine the SWAG behaviour:\n",
    "\n",
    "- `swa_burn_in`, or how many steps of SGD optimisation are taken before SWAG samples are collected\n",
    "- `swa_steps`, or how many steps (i.e. mini-batches) to take in between SWAG samples\n",
    "- `n_deviations`, or how many of the most recent deviations to use to fit the gaussian"
   ]
  },
  {
   "cell_type": "code",
   "execution_count": 7,
   "metadata": {},
   "outputs": [],
   "source": [
    "from baal import swag\n",
    "\n",
    "optimiser = swag.StochasticWeightAveraging(\n",
    "    standard_model.parameters(),\n",
    "    lr=1e-3,\n",
    "    weight_decay=1e-5,\n",
    "    swa_burn_in=100,\n",
    "    swa_steps=20,\n",
    "    n_deviations=20,\n",
    ")"
   ]
  },
  {
   "cell_type": "markdown",
   "metadata": {},
   "source": [
    "When you use this optimiser to fit your neural network, the optimiser will collect the mean and\n",
    "variation of each of the network's weights every 20 SGD steps, following the first 100 SGD steps.\n",
    "\n",
    "_Usually_, you should set `swa_burn_in` to upwards of tens of epochs, and swa_steps to on the\n",
    "order of one epoch. Note that the optimiser is unaware of the length of an epoch, and so you\n",
    "need to specify the amounts in terms of SGD steps, or mini-batches.\n",
    "\n",
    "For example:"
   ]
  },
  {
   "cell_type": "code",
   "execution_count": 8,
   "metadata": {},
   "outputs": [],
   "source": [
    "from baal import swag\n",
    "import torch\n",
    "import torch.utils.data\n",
    "\n",
    "# the data shape:\n",
    "batch_size = 8\n",
    "dataset_size = 20 * 8\n",
    "# create some dummy data:\n",
    "x = torch.randn(dataset_size, 10)\n",
    "y = torch.randint(low=0, high=2, size=(dataset_size,)).long()\n",
    "# write loaders for these:\n",
    "dummy_dataset = torch.utils.data.TensorDataset(x, y)\n",
    "dummy_loader = torch.utils.data.DataLoader(dummy_dataset, batch_size=batch_size)\n",
    "# write a simple model:\n",
    "model = torch.nn.Sequential(\n",
    "    torch.nn.Linear(10, 5),\n",
    "    torch.nn.ReLU(),\n",
    "    torch.nn.Dropout(p=0.5),\n",
    "    torch.nn.Linear(5, 2),\n",
    ")\n",
    "criterion = torch.nn.NLLLoss()\n",
    "# create the SWAG optimiser:\n",
    "optimiser = swag.StochasticWeightAveraging(\n",
    "    model.parameters(),\n",
    "    lr=1e-3,\n",
    "    weight_decay=1e-5,\n",
    "    # burn in for 50 epochs:\n",
    "    swa_burn_in=50*len(dummy_loader),\n",
    "    # then collect samples every epoch:\n",
    "    swa_steps=len(dummy_loader),\n",
    "    n_deviations=20,\n",
    ")"
   ]
  },
  {
   "cell_type": "markdown",
   "metadata": {},
   "source": [
    "We can then train our model as normal:"
   ]
  },
  {
   "cell_type": "code",
   "execution_count": 9,
   "metadata": {},
   "outputs": [],
   "source": [
    "for epoch in range(75):\n",
    "\n",
    "    for x, y in dummy_loader:\n",
    "\n",
    "        loss = criterion(model(x), y)\n",
    "        loss.backward()\n",
    "        optimiser.step()"
   ]
  },
  {
   "cell_type": "markdown",
   "metadata": {},
   "source": [
    "In order to obtain uncertainty estimates for our predictions, we need to \"sample\" models\n",
    "multiple times and make predictions with each model separately.\n",
    "\n",
    "For example, if we want to sample from the approximate posterior 100 times we do:"
   ]
  },
  {
   "cell_type": "code",
   "execution_count": 10,
   "metadata": {},
   "outputs": [],
   "source": [
    "eval_batch = torch.randn(8, 10)\n",
    "\n",
    "model.eval()\n",
    "\n",
    "predictions = []\n",
    "\n",
    "with torch.no_grad():\n",
    "    for n in range(1000):\n",
    "        optimiser.sample()\n",
    "        prediction = model(eval_batch)\n",
    "        predictions.append(prediction)\n",
    "\n",
    "predictions = torch.stack(predictions, dim=-1)"
   ]
  },
  {
   "cell_type": "markdown",
   "metadata": {},
   "source": [
    "Again, this can be simplified by using the `swag.ModelWrapper` class:"
   ]
  },
  {
   "cell_type": "code",
   "execution_count": 11,
   "metadata": {},
   "outputs": [],
   "source": [
    "model_wrapper = swag.SwagModelWrapper(\n",
    "    model,\n",
    "    criterion\n",
    ")\n",
    "\n",
    "with torch.no_grad():\n",
    "    predictions = model_wrapper.predict_on_batch(\n",
    "        eval_batch,\n",
    "        optimiser,\n",
    "        iterations=1000\n",
    "    )"
   ]
  },
  {
   "cell_type": "markdown",
   "metadata": {},
   "source": [
    "We now have 1000 predictions for every data point in our mini-batch:"
   ]
  },
  {
   "cell_type": "code",
   "execution_count": 12,
   "metadata": {},
   "outputs": [
    {
     "data": {
      "text/plain": [
       "torch.Size([8, 2, 1000])"
      ]
     },
     "execution_count": 12,
     "metadata": {},
     "output_type": "execute_result"
    }
   ],
   "source": [
    "predictions.shape"
   ]
  },
  {
   "cell_type": "markdown",
   "metadata": {},
   "source": [
    "And we can visualise the posterior:"
   ]
  },
  {
   "cell_type": "code",
   "execution_count": 13,
   "metadata": {},
   "outputs": [
    {
     "data": {
      "image/png": "[encoded data removed]",
      "text/plain": [
       "<Figure size 432x288 with 1 Axes>"
      ]
     },
     "metadata": {
      "needs_background": "light"
     },
     "output_type": "display_data"
    }
   ],
   "source": [
    "import matplotlib.pyplot as plt\n",
    "\n",
    "fig, ax = plt.subplots()\n",
    "ax.hist(predictions[0, 0, :].numpy(), bins=50);"
   ]
  }
 ],
 "metadata": {
  "kernelspec": {
   "display_name": "Python 3",
   "language": "python",
   "name": "python3"
  },
  "language_info": {
   "codemirror_mode": {
    "name": "ipython",
    "version": 3
   },
   "file_extension": ".py",
   "mimetype": "text/x-python",
   "name": "python",
   "nbconvert_exporter": "python",
   "pygments_lexer": "ipython3",
   "version": "3.7.0"
  }
 },
 "nbformat": 4,
 "nbformat_minor": 2
}
